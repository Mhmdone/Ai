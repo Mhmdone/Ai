{
 "cells": [
  {
   "cell_type": "code",
   "execution_count": 21,
   "id": "9ba55ac6-23ac-4490-b4ba-7714dbedfacc",
   "metadata": {},
   "outputs": [],
   "source": [
    "from sklearn.model_selection import train_test_split\n",
    "from sklearn.model_selection import cross_val_score\n",
    "import warnings\n",
    "warnings.filterwarnings('ignore')\n",
    "import matplotlib.pyplot as plt\n",
    "from sklearn.metrics import mean_squared_error, mean_absolute_error, r2_score\n",
    "import numpy as np\n",
    "from sklearn.neighbors import KNeighborsRegressor\n",
    "from sklearn.model_selection import KFold\n",
    "import pandas as pd\n",
    "#loding data from mouse.csv\n",
    "df = pd.read_csv('mouse(N70).csv')"
   ]
  },
  {
   "cell_type": "code",
   "execution_count": 22,
   "id": "e21fbcce-5be9-4b2f-b42b-762f8cd65ee9",
   "metadata": {},
   "outputs": [],
   "source": [
    "#delete inefficient column from feature columns\n",
    "df=df.drop(columns='DPI changes(have1 or not0)')\n",
    "#delete unusefull feature\n",
    "df=df.drop(columns='programmability(have1)')\n",
    "#replace the Nun number with median of its columns\n",
    "df['Click lifetime'].fillna(df['Click lifetime'].median(),inplace=True)\n",
    "df['Two-handed access'].fillna(df['Two-handed access'].median(),inplace=True)\n",
    "#df['programmability(have1)'].fillna(df['programmability(have1)'].median(),inplace=True)\n",
    "df['Acceleration'].fillna(df['Acceleration'].median(),inplace=True)\n",
    "df['number of keys'].fillna(df['number of keys'].median(),inplace=True)"
   ]
  },
  {
   "cell_type": "markdown",
   "id": "9b9f1d70-0ab6-479a-b62f-a916afa348d5",
   "metadata": {},
   "source": [
    "## Spliting Data"
   ]
  },
  {
   "cell_type": "code",
   "execution_count": 23,
   "id": "b9322614-8354-4b15-a5be-3ee8ef18b148",
   "metadata": {},
   "outputs": [],
   "source": [
    "a,b=df.shape\n",
    "#chosing the target and feature\n",
    "#spliting with 50 data\n",
    "Yl=df.iloc[:50,b-1:b]\n",
    "Xl=df.iloc[:50,:b-1]\n",
    "#spliting with 70 data\n",
    "Yh=df.iloc[:,b-1:b]\n",
    "Xh=df.iloc[:,:b-1]"
   ]
  },
  {
   "cell_type": "markdown",
   "id": "efdec631-c5e4-44a7-9029-dd3de23fd16a",
   "metadata": {},
   "source": [
    "## Noise detection and droping"
   ]
  },
  {
   "cell_type": "code",
   "execution_count": 24,
   "id": "6e686b2e-6281-490b-810b-ea7435d4208c",
   "metadata": {},
   "outputs": [
    {
     "name": "stdout",
     "output_type": "stream",
     "text": [
      "(50, 6)\n",
      "[ 1  1 -1  1  1  1  1  1  1  1  1  1 -1  1 -1  1  1  1  1  1  1  1 -1  1\n",
      "  1  1  1  1  1  1  1  1  1  1  1  1  1  1  1  1 -1  1  1  1  1  1  1  1\n",
      "  1  1]\n"
     ]
    }
   ],
   "source": [
    "#detecting of noise data and deleting them\n",
    "from sklearn.ensemble import IsolationForest\n",
    "detector = IsolationForest(contamination=0.1,random_state=42)\n",
    "detector.fit(Xl)\n",
    "y_pred_noise = detector.predict(Xl)\n",
    "h=y_pred_noise\n",
    "#define list of noise data for ploting\n",
    "noise=[]\n",
    "noisey=[]\n",
    "#set copy of X and Y to pass the Iterate error\n",
    "Xnew=Xl\n",
    "Ynew=Yl\n",
    "print(Xl.shape)\n",
    "print(y_pred_noise)\n",
    "#find(from X Y) and add noise data in noiselist beasd on y_pred_noise\n",
    "for x in range(len(y_pred_noise)):\n",
    "    if y_pred_noise[x]==-1:      \n",
    "        noise.append(Xnew.iloc[x])\n",
    "        noisey.append(Ynew.iloc[x])\n",
    "        Xl=Xl.drop(x)\n",
    "        Yl=Yl.drop(x)"
   ]
  },
  {
   "cell_type": "code",
   "execution_count": 25,
   "id": "70df14ac-c01a-4652-8965-a9c155495064",
   "metadata": {},
   "outputs": [
    {
     "name": "stdout",
     "output_type": "stream",
     "text": [
      "(66, 6)\n",
      "[ 1  1 -1  1  1  1 -1  1  1  1  1  1 -1  1 -1  1  1  1  1  1  1  1  1  1\n",
      "  1  1  1  1  1  1  1  1  1  1  1  1  1  1  1  1  1  1  1  1  1  1  1  1\n",
      "  1  1  1  1  1 -1  1  1  1  1  1  1  1 -1  1  1 -1  1]\n"
     ]
    }
   ],
   "source": [
    "#detecting of noise data and deleting them\n",
    "from sklearn.ensemble import IsolationForest\n",
    "detector = IsolationForest(contamination=0.1,random_state=42)\n",
    "detector.fit(Xh)\n",
    "y_pred_noise = detector.predict(Xh)\n",
    "h=y_pred_noise\n",
    "#define list of noise data for ploting\n",
    "noise=[]\n",
    "noisey=[]\n",
    "#set copy of X and Y to pass the Iterate error\n",
    "Xnew=Xh\n",
    "Ynew=Yh\n",
    "print(Xh.shape)\n",
    "print(y_pred_noise)\n",
    "#find(from X Y) and add noise data in noiselist beasd on y_pred_noise\n",
    "for x in range(len(y_pred_noise)):\n",
    "    if y_pred_noise[x]==-1:      \n",
    "        noise.append(Xnew.iloc[x])\n",
    "        noisey.append(Ynew.iloc[x])\n",
    "        Xh=Xh.drop(x)\n",
    "        Yh=Yh.drop(x)"
   ]
  },
  {
   "cell_type": "code",
   "execution_count": 26,
   "id": "7d1094cd-ec29-4be7-8221-4d80976de373",
   "metadata": {},
   "outputs": [
    {
     "data": {
      "text/html": [
       "<div>\n",
       "<style scoped>\n",
       "    .dataframe tbody tr th:only-of-type {\n",
       "        vertical-align: middle;\n",
       "    }\n",
       "\n",
       "    .dataframe tbody tr th {\n",
       "        vertical-align: top;\n",
       "    }\n",
       "\n",
       "    .dataframe thead th {\n",
       "        text-align: right;\n",
       "    }\n",
       "</style>\n",
       "<table border=\"1\" class=\"dataframe\">\n",
       "  <thead>\n",
       "    <tr style=\"text-align: right;\">\n",
       "      <th></th>\n",
       "      <th>DPI</th>\n",
       "      <th>Click lifetime</th>\n",
       "      <th>Acceleration</th>\n",
       "      <th>Two-handed access</th>\n",
       "      <th>number of keys</th>\n",
       "      <th>conection(remote0)</th>\n",
       "    </tr>\n",
       "  </thead>\n",
       "  <tbody>\n",
       "    <tr>\n",
       "      <th>count</th>\n",
       "      <td>45.000000</td>\n",
       "      <td>45.000000</td>\n",
       "      <td>45.000000</td>\n",
       "      <td>45.000000</td>\n",
       "      <td>45.000000</td>\n",
       "      <td>45.000000</td>\n",
       "    </tr>\n",
       "    <tr>\n",
       "      <th>mean</th>\n",
       "      <td>9655.555556</td>\n",
       "      <td>35.288889</td>\n",
       "      <td>35.666667</td>\n",
       "      <td>1.288889</td>\n",
       "      <td>7.066667</td>\n",
       "      <td>0.977778</td>\n",
       "    </tr>\n",
       "    <tr>\n",
       "      <th>std</th>\n",
       "      <td>6440.798777</td>\n",
       "      <td>23.710970</td>\n",
       "      <td>13.295591</td>\n",
       "      <td>0.458368</td>\n",
       "      <td>1.643168</td>\n",
       "      <td>0.499495</td>\n",
       "    </tr>\n",
       "    <tr>\n",
       "      <th>min</th>\n",
       "      <td>1000.000000</td>\n",
       "      <td>1.000000</td>\n",
       "      <td>10.000000</td>\n",
       "      <td>1.000000</td>\n",
       "      <td>4.000000</td>\n",
       "      <td>0.000000</td>\n",
       "    </tr>\n",
       "    <tr>\n",
       "      <th>25%</th>\n",
       "      <td>3200.000000</td>\n",
       "      <td>10.000000</td>\n",
       "      <td>23.000000</td>\n",
       "      <td>1.000000</td>\n",
       "      <td>6.000000</td>\n",
       "      <td>1.000000</td>\n",
       "    </tr>\n",
       "    <tr>\n",
       "      <th>50%</th>\n",
       "      <td>8000.000000</td>\n",
       "      <td>50.000000</td>\n",
       "      <td>40.000000</td>\n",
       "      <td>1.000000</td>\n",
       "      <td>7.000000</td>\n",
       "      <td>1.000000</td>\n",
       "    </tr>\n",
       "    <tr>\n",
       "      <th>75%</th>\n",
       "      <td>16000.000000</td>\n",
       "      <td>50.000000</td>\n",
       "      <td>50.000000</td>\n",
       "      <td>2.000000</td>\n",
       "      <td>8.000000</td>\n",
       "      <td>1.000000</td>\n",
       "    </tr>\n",
       "    <tr>\n",
       "      <th>max</th>\n",
       "      <td>20000.000000</td>\n",
       "      <td>70.000000</td>\n",
       "      <td>50.000000</td>\n",
       "      <td>2.000000</td>\n",
       "      <td>11.000000</td>\n",
       "      <td>2.000000</td>\n",
       "    </tr>\n",
       "  </tbody>\n",
       "</table>\n",
       "</div>"
      ],
      "text/plain": [
       "                DPI  Click lifetime  Acceleration  Two-handed access  \\\n",
       "count     45.000000       45.000000     45.000000          45.000000   \n",
       "mean    9655.555556       35.288889     35.666667           1.288889   \n",
       "std     6440.798777       23.710970     13.295591           0.458368   \n",
       "min     1000.000000        1.000000     10.000000           1.000000   \n",
       "25%     3200.000000       10.000000     23.000000           1.000000   \n",
       "50%     8000.000000       50.000000     40.000000           1.000000   \n",
       "75%    16000.000000       50.000000     50.000000           2.000000   \n",
       "max    20000.000000       70.000000     50.000000           2.000000   \n",
       "\n",
       "       number of keys  conection(remote0)  \n",
       "count       45.000000           45.000000  \n",
       "mean         7.066667            0.977778  \n",
       "std          1.643168            0.499495  \n",
       "min          4.000000            0.000000  \n",
       "25%          6.000000            1.000000  \n",
       "50%          7.000000            1.000000  \n",
       "75%          8.000000            1.000000  \n",
       "max         11.000000            2.000000  "
      ]
     },
     "execution_count": 26,
     "metadata": {},
     "output_type": "execute_result"
    }
   ],
   "source": [
    "Xl.describe()"
   ]
  },
  {
   "cell_type": "code",
   "execution_count": 27,
   "id": "a8d7aba6-865b-46bb-a4a5-6c93c6f6b879",
   "metadata": {},
   "outputs": [],
   "source": [
    "x, X_test, y, y_test = train_test_split(Xl, Yl/1000000, test_size=.2,shuffle=True,random_state=42)"
   ]
  },
  {
   "cell_type": "code",
   "execution_count": 28,
   "id": "2939c3b5-0f5d-4d86-8d12-e9d8f0bc0bab",
   "metadata": {},
   "outputs": [],
   "source": [
    "x70, X_test70, y70, y_test70 = train_test_split(Xh, Yh/1000000, test_size=.2,shuffle=True,random_state=42)"
   ]
  },
  {
   "cell_type": "markdown",
   "id": "3788fffb-32be-4c2b-a88e-dc1c902d30da",
   "metadata": {},
   "source": [
    "## Standard scaling"
   ]
  },
  {
   "cell_type": "code",
   "execution_count": 29,
   "id": "cd3cb509-bf2f-4e65-9195-5f7ab84473b9",
   "metadata": {},
   "outputs": [],
   "source": [
    "from sklearn.preprocessing import StandardScaler\n",
    "scaler = StandardScaler()\n",
    "scaler.fit(x)\n",
    "x=scaler.transform(x)\n",
    "X_test=scaler.transform(X_test)"
   ]
  },
  {
   "cell_type": "code",
   "execution_count": 30,
   "id": "c2f4db13-519e-48de-8a02-ae7bd1d263b0",
   "metadata": {},
   "outputs": [],
   "source": [
    "from sklearn.preprocessing import StandardScaler\n",
    "scaler = StandardScaler()\n",
    "scaler.fit(x70)\n",
    "x70=scaler.transform(x70)\n",
    "X_test70=scaler.transform(X_test70)"
   ]
  },
  {
   "cell_type": "markdown",
   "id": "4212d801-481b-4bc1-b59e-40b10de72170",
   "metadata": {},
   "source": [
    "## KNN algorithem"
   ]
  },
  {
   "cell_type": "code",
   "execution_count": 31,
   "id": "16b4cdf7-00c0-4644-9cf7-b20acd9d8569",
   "metadata": {},
   "outputs": [],
   "source": [
    "from sklearn.metrics import r2_score\n",
    "kn = KNeighborsRegressor(n_neighbors=4)\n",
    "kn.fit(x,y)\n",
    "pred = kn.predict(X_test)\n",
    "predy = kn.predict(x)\n",
    "\n",
    "kn70 = KNeighborsRegressor(n_neighbors=4)\n",
    "kn70.fit(x70,y70)\n",
    "pred70 = kn70.predict(X_test70)\n",
    "predy70 = kn70.predict(x70)\n",
    "\n",
    "\n",
    "KNN_R2_70 = r2_score(y_test70,pred70)\n",
    "KNN_R2_70_train = r2_score(y70,predy70)\n",
    "\n",
    "KNN_R2_50 = r2_score(y_test,pred)\n",
    "KNN_R2_50_train = r2_score(y,predy)"
   ]
  },
  {
   "cell_type": "code",
   "execution_count": 32,
   "id": "3948b913-8f6a-460d-96f2-1d8265c48d07",
   "metadata": {},
   "outputs": [
    {
     "data": {
      "text/plain": [
       "0.49916898440042323"
      ]
     },
     "execution_count": 32,
     "metadata": {},
     "output_type": "execute_result"
    }
   ],
   "source": [
    "KNN_R2_50"
   ]
  },
  {
   "cell_type": "code",
   "execution_count": 33,
   "id": "600afb6e-3eab-4af9-8f36-ac66eb0b8a21",
   "metadata": {},
   "outputs": [
    {
     "data": {
      "text/plain": [
       "0.7114859554935256"
      ]
     },
     "execution_count": 33,
     "metadata": {},
     "output_type": "execute_result"
    }
   ],
   "source": [
    "KNN_R2_70"
   ]
  },
  {
   "cell_type": "markdown",
   "id": "81396fdd-8239-45da-9aa3-86be62f7e718",
   "metadata": {},
   "source": [
    "## Decesion Tree"
   ]
  },
  {
   "cell_type": "code",
   "execution_count": 34,
   "id": "4323afec-a686-4b11-91af-4d8b816173c5",
   "metadata": {},
   "outputs": [
    {
     "name": "stdout",
     "output_type": "stream",
     "text": [
      "0.776307181217744 0.5208352930259519\n"
     ]
    }
   ],
   "source": [
    "from sklearn.tree import DecisionTreeRegressor\n",
    "from sklearn.metrics import mean_squared_error, mean_absolute_error, r2_score\n",
    "max_depth=[2,3,4,5,6,7,8,9,10,11,12,13]\n",
    "Dtree=DecisionTreeRegressor(max_depth=6)\n",
    "Dtree.fit(x,y)\n",
    "pred=Dtree.predict(X_test)\n",
    "\n",
    "Dtree70=DecisionTreeRegressor(max_depth=3)\n",
    "Dtree70.fit(x70,y70)\n",
    "pred70=Dtree70.predict(X_test70)\n",
    "\n",
    "\n",
    "Decesion_Tree_R2_70=r2_score(y_test70,pred70)\n",
    "Decesion_Tree_R2_50=r2_score(y_test,pred)\n",
    "print(Decesion_Tree_R2_70,Decesion_Tree_R2_50)"
   ]
  },
  {
   "cell_type": "code",
   "execution_count": null,
   "id": "fdb7b427-a5b4-4ddd-a5eb-ef88442067e6",
   "metadata": {},
   "outputs": [],
   "source": []
  },
  {
   "cell_type": "markdown",
   "id": "dbac4f56-583f-4427-bddf-65a554c9f18c",
   "metadata": {},
   "source": [
    "## Radnom Forest"
   ]
  },
  {
   "cell_type": "code",
   "execution_count": 35,
   "id": "4691dfb0-be9a-498d-8a22-c79f252b9900",
   "metadata": {},
   "outputs": [],
   "source": [
    "from sklearn.ensemble import RandomForestRegressor\n",
    "from sklearn.metrics import mean_squared_error, mean_absolute_error, r2_score\n",
    "regg=RandomForestRegressor(n_estimators=100,min_samples_leaf=1,max_depth=5)\n",
    "regg70=RandomForestRegressor(n_estimators=150,min_samples_leaf=1,max_depth=5)\n",
    "y=np.ravel(y)\n",
    "regg.fit(x,y)\n",
    "predtest50=regg.predict(X_test)\n",
    "predtrain50=regg.predict(x)\n",
    "\n",
    "y70=np.ravel(y70)\n",
    "regg70.fit(x70,y70)\n",
    "predtest70=regg70.predict(X_test70)\n",
    "predtrain70=regg70.predict(x70)\n",
    "\n",
    "\n",
    "Random_Forest_R2_70 = r2_score(y_test70,predtest70)\n",
    "Random_Forest_R2_50 = r2_score(y_test,predtest50)"
   ]
  },
  {
   "cell_type": "code",
   "execution_count": 36,
   "id": "906bf7f9-736a-4930-a70d-8779a11355fd",
   "metadata": {},
   "outputs": [
    {
     "name": "stdout",
     "output_type": "stream",
     "text": [
      "0.7469942304570165 0.6464787495402156\n"
     ]
    }
   ],
   "source": [
    "print(Random_Forest_R2_70,Random_Forest_R2_50)"
   ]
  },
  {
   "cell_type": "markdown",
   "id": "4a040d80-4344-4b9c-ab6e-f70813d4751f",
   "metadata": {},
   "source": [
    "## Adaboost"
   ]
  },
  {
   "cell_type": "code",
   "execution_count": 37,
   "id": "44ccaa2b-d746-4c57-9693-54d525d2f83a",
   "metadata": {},
   "outputs": [],
   "source": [
    "from sklearn.ensemble import AdaBoostRegressor\n",
    "from sklearn.tree import DecisionTreeRegressor\n",
    "base=DecisionTreeRegressor(max_depth=30, min_samples_leaf=1)\n",
    "y = np.ravel(y)\n",
    "y_test = np.ravel(y_test)\n",
    "adaboost = AdaBoostRegressor(base,n_estimators=100,learning_rate=0.01)\n",
    "adaboost.fit(x,y)\n",
    "pred_test_50 = adaboost.predict(X_test)\n",
    "pred_train_50 = adaboost.predict(x)\n",
    "\n",
    "y70 = np.ravel(y70)\n",
    "y_test70 = np.ravel(y_test70)\n",
    "adaboost = AdaBoostRegressor(base,n_estimators=100,learning_rate=0.01)\n",
    "adaboost.fit(x70,y70)\n",
    "pred_test_70 = adaboost.predict(X_test70)\n",
    "pred_train_70 = adaboost.predict(x70)\n",
    "\n",
    "\n",
    "ADAboost_R2_50_test = r2_score(y_test,pred_test_50)\n",
    "ADAboost_R2_50_train = r2_score(y,pred_train_50)\n",
    "ADAboost_R2_70_test = r2_score(y_test70,pred_test_70)\n",
    "ADAboost_R2_70_train = r2_score(y70,pred_train_70)\n"
   ]
  },
  {
   "cell_type": "markdown",
   "id": "b28a84dd-e902-4a89-b043-5834ad5b7f00",
   "metadata": {},
   "source": [
    "## SVR"
   ]
  },
  {
   "cell_type": "code",
   "execution_count": 38,
   "id": "887ce244-a27c-437c-8eb4-456bcb8375b2",
   "metadata": {},
   "outputs": [],
   "source": [
    "from sklearn.svm import SVR\n",
    "from sklearn.model_selection import KFold\n",
    "from sklearn.model_selection import GridSearchCV\n",
    "from sklearn.model_selection import KFold\n",
    "\n",
    "\n",
    "svr = SVR(gamma = 0.01,C = 100000)\n",
    "svr.fit(x,y)\n",
    "pred_test_50 = svr.predict(X_test)\n",
    "SVR_R2_50 = r2_score(y_test,pred_test_50)\n",
    "\n",
    "svr1 = SVR(gamma = 0.01,C = 10)\n",
    "svr1.fit(x70,y70)\n",
    "pred_test_70 = svr.predict(X_test70)\n",
    "\n",
    "SVR_R2_50 = r2_score(y_test,pred_test_50)\n",
    "SVR_R2_70 = r2_score(y_test70,pred_test_70)\n"
   ]
  },
  {
   "cell_type": "code",
   "execution_count": 39,
   "id": "7f30c686-40d9-441b-b52a-1944605c8697",
   "metadata": {},
   "outputs": [],
   "source": [
    "list_r2_70=[KNN_R2_70 , Decesion_Tree_R2_70 , Random_Forest_R2_70 , ADAboost_R2_70_test , SVR_R2_70]\n",
    "list_r2_50=[KNN_R2_50 , Decesion_Tree_R2_50 , Random_Forest_R2_50 , ADAboost_R2_50_test , SVR_R2_50]"
   ]
  },
  {
   "cell_type": "code",
   "execution_count": 40,
   "id": "7c605cf2-6a97-4176-b34e-445293df4afd",
   "metadata": {},
   "outputs": [
    {
     "data": {
      "image/png": "[encoded data removed]",
      "text/plain": [
       "<Figure size 1000x1000 with 1 Axes>"
      ]
     },
     "metadata": {},
     "output_type": "display_data"
    }
   ],
   "source": [
    "plt.figure(figsize=(10,10))\n",
    "plt.scatter(range(len(list_r2_70)),list_r2_70)\n",
    "plt.scatter(range(len(list_r2_70)),list_r2_50)\n",
    "plt.xticks(range(len(list_r2_70)),labels=['KNN_R2 ', 'Decesion_Tree_R2' , 'Random_Forest_R2' ,' ADAboost_R2 ', 'SVR_R2'])\n",
    "plt.yticks(np.linspace(0,1,20))\n",
    "plt.legend(['Dataset with 70 sample','Dataset with 50 sample'])\n",
    "plt.grid()\n",
    "plt.show()\n"
   ]
  },
  {
   "cell_type": "code",
   "execution_count": null,
   "id": "0b9229ca-1cd8-49b9-a10a-71e80ba37f83",
   "metadata": {},
   "outputs": [],
   "source": []
  },
  {
   "cell_type": "code",
   "execution_count": null,
   "id": "d9a7e5ae-0e8e-4a6a-a439-d52e4a1d19b5",
   "metadata": {},
   "outputs": [],
   "source": []
  }
 ],
 "metadata": {
  "kernelspec": {
   "display_name": "Python 3 (ipykernel)",
   "language": "python",
   "name": "python3"
  },
  "language_info": {
   "codemirror_mode": {
    "name": "ipython",
    "version": 3
   },
   "file_extension": ".py",
   "mimetype": "text/x-python",
   "name": "python",
   "nbconvert_exporter": "python",
   "pygments_lexer": "ipython3",
   "version": "3.11.9"
  }
 },
 "nbformat": 4,
 "nbformat_minor": 5
}
